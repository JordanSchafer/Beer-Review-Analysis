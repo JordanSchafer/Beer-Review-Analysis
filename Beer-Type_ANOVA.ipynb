{
 "cells": [
  {
   "cell_type": "code",
   "execution_count": 2,
   "metadata": {},
   "outputs": [],
   "source": [
    "%matplotlib inline\n",
    "import pandas as pd\n",
    "import scipy.stats as stats\n",
    "import warnings\n",
    "import matplotlib.pyplot as plt\n",
    "warnings.filterwarnings('ignore')"
   ]
  },
  {
   "cell_type": "code",
   "execution_count": 3,
   "metadata": {},
   "outputs": [
    {
     "data": {
      "text/html": [
       "<div>\n",
       "<style scoped>\n",
       "    .dataframe tbody tr th:only-of-type {\n",
       "        vertical-align: middle;\n",
       "    }\n",
       "\n",
       "    .dataframe tbody tr th {\n",
       "        vertical-align: top;\n",
       "    }\n",
       "\n",
       "    .dataframe thead th {\n",
       "        text-align: right;\n",
       "    }\n",
       "</style>\n",
       "<table border=\"1\" class=\"dataframe\">\n",
       "  <thead>\n",
       "    <tr style=\"text-align: right;\">\n",
       "      <th></th>\n",
       "      <th>index</th>\n",
       "      <th>beer_name</th>\n",
       "      <th>brewery_name</th>\n",
       "      <th>beer_style</th>\n",
       "      <th>country</th>\n",
       "      <th>beer_abv</th>\n",
       "      <th>review_overall</th>\n",
       "      <th>review_aroma</th>\n",
       "      <th>review_appearance</th>\n",
       "      <th>review_palate</th>\n",
       "      <th>review_taste</th>\n",
       "      <th>beer_review_count</th>\n",
       "      <th>brewery_review</th>\n",
       "      <th>brewery_review_count</th>\n",
       "      <th>lat</th>\n",
       "      <th>lng</th>\n",
       "      <th>beer_id</th>\n",
       "      <th>brewery_id</th>\n",
       "    </tr>\n",
       "  </thead>\n",
       "  <tbody>\n",
       "    <tr>\n",
       "      <th>0</th>\n",
       "      <td>0</td>\n",
       "      <td>(512) IPA</td>\n",
       "      <td>(512) Brewing Company</td>\n",
       "      <td>American IPA</td>\n",
       "      <td>United States</td>\n",
       "      <td>7.0</td>\n",
       "      <td>4.259259</td>\n",
       "      <td>4.129630</td>\n",
       "      <td>4.009259</td>\n",
       "      <td>4.101852</td>\n",
       "      <td>4.185185</td>\n",
       "      <td>54</td>\n",
       "      <td>4.22</td>\n",
       "      <td>135</td>\n",
       "      <td>30.222972</td>\n",
       "      <td>-97.770152</td>\n",
       "      <td>43535</td>\n",
       "      <td>17863</td>\n",
       "    </tr>\n",
       "    <tr>\n",
       "      <th>1</th>\n",
       "      <td>1</td>\n",
       "      <td>(512) Pecan Porter</td>\n",
       "      <td>(512) Brewing Company</td>\n",
       "      <td>American Porter</td>\n",
       "      <td>United States</td>\n",
       "      <td>6.8</td>\n",
       "      <td>4.185185</td>\n",
       "      <td>4.067901</td>\n",
       "      <td>4.166667</td>\n",
       "      <td>3.981481</td>\n",
       "      <td>4.166667</td>\n",
       "      <td>81</td>\n",
       "      <td>4.22</td>\n",
       "      <td>135</td>\n",
       "      <td>30.222972</td>\n",
       "      <td>-97.770152</td>\n",
       "      <td>45617</td>\n",
       "      <td>17863</td>\n",
       "    </tr>\n",
       "    <tr>\n",
       "      <th>2</th>\n",
       "      <td>2</td>\n",
       "      <td>Hell Or High Watermelon Wheat Beer</td>\n",
       "      <td>21st Amendment Brewery</td>\n",
       "      <td>Fruit / Vegetable Beer</td>\n",
       "      <td>United States</td>\n",
       "      <td>4.9</td>\n",
       "      <td>3.388771</td>\n",
       "      <td>3.116525</td>\n",
       "      <td>3.237288</td>\n",
       "      <td>3.325212</td>\n",
       "      <td>3.237288</td>\n",
       "      <td>472</td>\n",
       "      <td>3.71</td>\n",
       "      <td>2767</td>\n",
       "      <td>37.782525</td>\n",
       "      <td>-122.392460</td>\n",
       "      <td>4202</td>\n",
       "      <td>735</td>\n",
       "    </tr>\n",
       "    <tr>\n",
       "      <th>3</th>\n",
       "      <td>3</td>\n",
       "      <td>21st Amendment IPA</td>\n",
       "      <td>21st Amendment Brewery</td>\n",
       "      <td>American IPA</td>\n",
       "      <td>United States</td>\n",
       "      <td>7.0</td>\n",
       "      <td>3.890769</td>\n",
       "      <td>3.801538</td>\n",
       "      <td>3.977692</td>\n",
       "      <td>3.771538</td>\n",
       "      <td>3.767692</td>\n",
       "      <td>650</td>\n",
       "      <td>3.71</td>\n",
       "      <td>2767</td>\n",
       "      <td>37.782525</td>\n",
       "      <td>-122.392460</td>\n",
       "      <td>20781</td>\n",
       "      <td>735</td>\n",
       "    </tr>\n",
       "    <tr>\n",
       "      <th>4</th>\n",
       "      <td>4</td>\n",
       "      <td>Bitter American</td>\n",
       "      <td>21st Amendment Brewery</td>\n",
       "      <td>American Pale Ale (APA)</td>\n",
       "      <td>United States</td>\n",
       "      <td>4.4</td>\n",
       "      <td>4.118421</td>\n",
       "      <td>3.921053</td>\n",
       "      <td>3.927632</td>\n",
       "      <td>3.769737</td>\n",
       "      <td>3.898026</td>\n",
       "      <td>152</td>\n",
       "      <td>3.71</td>\n",
       "      <td>2767</td>\n",
       "      <td>37.782525</td>\n",
       "      <td>-122.392460</td>\n",
       "      <td>34791</td>\n",
       "      <td>735</td>\n",
       "    </tr>\n",
       "  </tbody>\n",
       "</table>\n",
       "</div>"
      ],
      "text/plain": [
       "   index                           beer_name            brewery_name  \\\n",
       "0      0                           (512) IPA   (512) Brewing Company   \n",
       "1      1                  (512) Pecan Porter   (512) Brewing Company   \n",
       "2      2  Hell Or High Watermelon Wheat Beer  21st Amendment Brewery   \n",
       "3      3                  21st Amendment IPA  21st Amendment Brewery   \n",
       "4      4                     Bitter American  21st Amendment Brewery   \n",
       "\n",
       "                beer_style        country  beer_abv  review_overall  \\\n",
       "0             American IPA  United States       7.0        4.259259   \n",
       "1          American Porter  United States       6.8        4.185185   \n",
       "2   Fruit / Vegetable Beer  United States       4.9        3.388771   \n",
       "3             American IPA  United States       7.0        3.890769   \n",
       "4  American Pale Ale (APA)  United States       4.4        4.118421   \n",
       "\n",
       "   review_aroma  review_appearance  review_palate  review_taste  \\\n",
       "0      4.129630           4.009259       4.101852      4.185185   \n",
       "1      4.067901           4.166667       3.981481      4.166667   \n",
       "2      3.116525           3.237288       3.325212      3.237288   \n",
       "3      3.801538           3.977692       3.771538      3.767692   \n",
       "4      3.921053           3.927632       3.769737      3.898026   \n",
       "\n",
       "   beer_review_count  brewery_review  brewery_review_count        lat  \\\n",
       "0                 54            4.22                   135  30.222972   \n",
       "1                 81            4.22                   135  30.222972   \n",
       "2                472            3.71                  2767  37.782525   \n",
       "3                650            3.71                  2767  37.782525   \n",
       "4                152            3.71                  2767  37.782525   \n",
       "\n",
       "          lng  beer_id  brewery_id  \n",
       "0  -97.770152    43535       17863  \n",
       "1  -97.770152    45617       17863  \n",
       "2 -122.392460     4202         735  \n",
       "3 -122.392460    20781         735  \n",
       "4 -122.392460    34791         735  "
      ]
     },
     "execution_count": 3,
     "metadata": {},
     "output_type": "execute_result"
    }
   ],
   "source": [
    "beer_df = pd.read_csv(\"Resources/clean_beer_data_try2.csv\")\n",
    "beer_df.head()"
   ]
  },
  {
   "cell_type": "code",
   "execution_count": 5,
   "metadata": {},
   "outputs": [
    {
     "name": "stdout",
     "output_type": "stream",
     "text": [
      "['American IPA' 'American Porter' 'Fruit / Vegetable Beer'\n",
      " 'American Pale Ale (APA)' 'American Double / Imperial IPA'\n",
      " 'American Black Ale' 'Belgian Strong Dark Ale' 'Winter Warmer'\n",
      " 'English Strong Ale' 'American Adjunct Lager' 'Tripel' 'Belgian Dark Ale'\n",
      " 'Belgian Pale Ale' 'Belgian Strong Pale Ale' 'Vienna Lager'\n",
      " 'English Brown Ale' 'American Pale Lager' 'Maibock / Helles Bock'\n",
      " 'American Amber / Red Ale' 'Märzen / Oktoberfest' 'Light Lager'\n",
      " 'Czech Pilsener' 'American Brown Ale' 'Dubbel' 'Witbier'\n",
      " 'German Pilsener' 'American Strong Ale' 'Doppelbock'\n",
      " 'Foreign / Export Stout' 'Oatmeal Stout'\n",
      " 'Extra Special / Strong Bitter (ESB)' 'Altbier' 'American Blonde Ale'\n",
      " 'Old Ale' 'Kölsch' 'American Barleywine' 'Baltic Porter'\n",
      " 'Russian Imperial Stout' 'Euro Pale Lager' 'English Porter' 'Belgian IPA'\n",
      " 'American Double / Imperial Stout' 'Scotch Ale / Wee Heavy'\n",
      " 'English Barleywine' 'Weizenbock' 'English India Pale Ale (IPA)'\n",
      " 'Quadrupel (Quad)' 'American Wild Ale' 'Saison / Farmhouse Ale'\n",
      " 'English Pale Ale' 'Herbed / Spiced Beer' 'American Stout'\n",
      " 'California Common / Steam Beer' 'English Bitter'\n",
      " 'American Pale Wheat Ale' 'Bock' 'Cream Ale' 'American Malt Liquor'\n",
      " 'American Amber / Red Lager' 'Low Alcohol Beer' 'Pumpkin Ale'\n",
      " 'Hefeweizen' 'Dunkelweizen' 'Irish Red Ale' 'Scottish Ale'\n",
      " 'Dortmunder / Export Lager' 'Rye Beer' 'Braggot' 'Munich Dunkel Lager'\n",
      " 'English Stout' 'Munich Helles Lager' 'Irish Dry Stout' 'Schwarzbier'\n",
      " 'English Dark Mild Ale' 'Kristalweizen' 'American Dark Wheat Ale'\n",
      " 'Wheatwine' 'Berliner Weissbier' 'Black & Tan' 'Euro Strong Lager'\n",
      " 'American Double / Imperial Pilsner' 'Milk / Sweet Stout'\n",
      " 'Bière de Champagne / Bière Brut' 'Rauchbier' 'Lambic - Fruit' 'Gueuze'\n",
      " 'Lambic - Unblended' 'Bière de Garde' 'Euro Dark Lager' 'Eisbock'\n",
      " 'Flanders Red Ale' 'Flanders Oud Bruin' 'Faro' 'Chile Beer'\n",
      " 'Keller Bier / Zwickel Bier' 'Smoked Beer' 'Sahti' 'Gose'\n",
      " 'English Pale Mild Ale' 'Roggenbier'\n",
      " 'Scottish Gruit / Ancient Herbed Ale']\n"
     ]
    }
   ],
   "source": [
    "#Find top 5 most common beer styles\n",
    "style_count=beer_df[\"beer_style\"].value_counts()\n",
    "print(beer_df[\"beer_style\"].unique())"
   ]
  },
  {
   "cell_type": "code",
   "execution_count": 5,
   "metadata": {},
   "outputs": [
    {
     "data": {
      "text/html": [
       "<div>\n",
       "<style scoped>\n",
       "    .dataframe tbody tr th:only-of-type {\n",
       "        vertical-align: middle;\n",
       "    }\n",
       "\n",
       "    .dataframe tbody tr th {\n",
       "        vertical-align: top;\n",
       "    }\n",
       "\n",
       "    .dataframe thead th {\n",
       "        text-align: right;\n",
       "    }\n",
       "</style>\n",
       "<table border=\"1\" class=\"dataframe\">\n",
       "  <thead>\n",
       "    <tr style=\"text-align: right;\">\n",
       "      <th></th>\n",
       "      <th>beer_style</th>\n",
       "      <th>review_overall</th>\n",
       "    </tr>\n",
       "  </thead>\n",
       "  <tbody>\n",
       "    <tr>\n",
       "      <th>0</th>\n",
       "      <td>American IPA</td>\n",
       "      <td>4.259259</td>\n",
       "    </tr>\n",
       "    <tr>\n",
       "      <th>3</th>\n",
       "      <td>American IPA</td>\n",
       "      <td>3.890769</td>\n",
       "    </tr>\n",
       "    <tr>\n",
       "      <th>30</th>\n",
       "      <td>American IPA</td>\n",
       "      <td>3.600216</td>\n",
       "    </tr>\n",
       "    <tr>\n",
       "      <th>45</th>\n",
       "      <td>American IPA</td>\n",
       "      <td>3.767273</td>\n",
       "    </tr>\n",
       "    <tr>\n",
       "      <th>58</th>\n",
       "      <td>American IPA</td>\n",
       "      <td>3.890625</td>\n",
       "    </tr>\n",
       "    <tr>\n",
       "      <th>...</th>\n",
       "      <td>...</td>\n",
       "      <td>...</td>\n",
       "    </tr>\n",
       "    <tr>\n",
       "      <th>4160</th>\n",
       "      <td>American Double / Imperial Stout</td>\n",
       "      <td>3.863636</td>\n",
       "    </tr>\n",
       "    <tr>\n",
       "      <th>4161</th>\n",
       "      <td>American Double / Imperial Stout</td>\n",
       "      <td>4.131988</td>\n",
       "    </tr>\n",
       "    <tr>\n",
       "      <th>4212</th>\n",
       "      <td>American Double / Imperial Stout</td>\n",
       "      <td>3.767782</td>\n",
       "    </tr>\n",
       "    <tr>\n",
       "      <th>4219</th>\n",
       "      <td>American Double / Imperial Stout</td>\n",
       "      <td>3.702222</td>\n",
       "    </tr>\n",
       "    <tr>\n",
       "      <th>4221</th>\n",
       "      <td>American Double / Imperial Stout</td>\n",
       "      <td>3.901914</td>\n",
       "    </tr>\n",
       "  </tbody>\n",
       "</table>\n",
       "<p>951 rows × 2 columns</p>\n",
       "</div>"
      ],
      "text/plain": [
       "                            beer_style  review_overall\n",
       "0                         American IPA        4.259259\n",
       "3                         American IPA        3.890769\n",
       "30                        American IPA        3.600216\n",
       "45                        American IPA        3.767273\n",
       "58                        American IPA        3.890625\n",
       "...                                ...             ...\n",
       "4160  American Double / Imperial Stout        3.863636\n",
       "4161  American Double / Imperial Stout        4.131988\n",
       "4212  American Double / Imperial Stout        3.767782\n",
       "4219  American Double / Imperial Stout        3.702222\n",
       "4221  American Double / Imperial Stout        3.901914\n",
       "\n",
       "[951 rows x 2 columns]"
      ]
     },
     "execution_count": 5,
     "metadata": {},
     "output_type": "execute_result"
    }
   ],
   "source": [
    "IPA_df=beer_df.loc[(beer_df[\"beer_style\"]==\"American IPA\"),[\"beer_style\",\"review_overall\"]]\n",
    "DoubIPA_df=beer_df.loc[(beer_df[\"beer_style\"]==\"American Double / Imperial IPA\"),[\"beer_style\",\"review_overall\"]]\n",
    "APA_df=beer_df.loc[(beer_df[\"beer_style\"]==\"American Pale Ale (APA)\"),[\"beer_style\",\"review_overall\"]]\n",
    "Port_df=beer_df.loc[(beer_df[\"beer_style\"]==\"American Porter\"),[\"beer_style\",\"review_overall\"]]\n",
    "ImpSt_df=beer_df.loc[(beer_df[\"beer_style\"]==\"American Double / Imperial Stout\"),[\"beer_style\",\"review_overall\"]]\n",
    "common_beer_df=IPA_df\n",
    "common_beer_df=common_beer_df.append([DoubIPA_df,APA_df,Port_df,ImpSt_df])\n",
    "common_beer_df"
   ]
  },
  {
   "cell_type": "code",
   "execution_count": 5,
   "metadata": {},
   "outputs": [
    {
     "data": {
      "image/png": "[encoded data removed]",
      "text/plain": [
       "<Figure size 1440x720 with 1 Axes>"
      ]
     },
     "metadata": {
      "needs_background": "light"
     },
     "output_type": "display_data"
    }
   ],
   "source": [
    "common_beer_df.boxplot(\"review_overall\", by=\"beer_style\",figsize=(20,10))\n",
    "plt.savefig(f\"Images/BeerBox.png\")"
   ]
  },
  {
   "cell_type": "code",
   "execution_count": 6,
   "metadata": {},
   "outputs": [
    {
     "data": {
      "text/plain": [
       "F_onewayResult(statistic=5.64910501617791, pvalue=0.00017036007480652904)"
      ]
     },
     "execution_count": 6,
     "metadata": {},
     "output_type": "execute_result"
    }
   ],
   "source": [
    "stats.f_oneway(IPA_df[\"review_overall\"],DoubIPA_df[\"review_overall\"],APA_df[\"review_overall\"],Port_df[\"review_overall\"],ImpSt_df[\"review_overall\"])"
   ]
  },
  {
   "cell_type": "code",
   "execution_count": 9,
   "metadata": {},
   "outputs": [
    {
     "data": {
      "text/html": [
       "<div>\n",
       "<style scoped>\n",
       "    .dataframe tbody tr th:only-of-type {\n",
       "        vertical-align: middle;\n",
       "    }\n",
       "\n",
       "    .dataframe tbody tr th {\n",
       "        vertical-align: top;\n",
       "    }\n",
       "\n",
       "    .dataframe thead th {\n",
       "        text-align: right;\n",
       "    }\n",
       "</style>\n",
       "<table border=\"1\" class=\"dataframe\">\n",
       "  <thead>\n",
       "    <tr style=\"text-align: right;\">\n",
       "      <th></th>\n",
       "      <th>beer_style</th>\n",
       "      <th>review_overall</th>\n",
       "    </tr>\n",
       "  </thead>\n",
       "  <tbody>\n",
       "    <tr>\n",
       "      <th>4</th>\n",
       "      <td>American Pale Ale (APA)</td>\n",
       "      <td>4.118421</td>\n",
       "    </tr>\n",
       "    <tr>\n",
       "      <th>31</th>\n",
       "      <td>American Pale Ale (APA)</td>\n",
       "      <td>3.574176</td>\n",
       "    </tr>\n",
       "    <tr>\n",
       "      <th>41</th>\n",
       "      <td>American Blonde Ale</td>\n",
       "      <td>3.858333</td>\n",
       "    </tr>\n",
       "    <tr>\n",
       "      <th>53</th>\n",
       "      <td>American Pale Ale (APA)</td>\n",
       "      <td>3.991228</td>\n",
       "    </tr>\n",
       "    <tr>\n",
       "      <th>61</th>\n",
       "      <td>American Pale Ale (APA)</td>\n",
       "      <td>4.138596</td>\n",
       "    </tr>\n",
       "    <tr>\n",
       "      <th>...</th>\n",
       "      <td>...</td>\n",
       "      <td>...</td>\n",
       "    </tr>\n",
       "    <tr>\n",
       "      <th>4250</th>\n",
       "      <td>American Pale Ale (APA)</td>\n",
       "      <td>3.700000</td>\n",
       "    </tr>\n",
       "    <tr>\n",
       "      <th>4260</th>\n",
       "      <td>English Pale Ale</td>\n",
       "      <td>3.272727</td>\n",
       "    </tr>\n",
       "    <tr>\n",
       "      <th>4269</th>\n",
       "      <td>American Pale Ale (APA)</td>\n",
       "      <td>3.854244</td>\n",
       "    </tr>\n",
       "    <tr>\n",
       "      <th>4276</th>\n",
       "      <td>American Pale Ale (APA)</td>\n",
       "      <td>3.623077</td>\n",
       "    </tr>\n",
       "    <tr>\n",
       "      <th>4283</th>\n",
       "      <td>American Pale Ale (APA)</td>\n",
       "      <td>3.221818</td>\n",
       "    </tr>\n",
       "  </tbody>\n",
       "</table>\n",
       "<p>300 rows × 2 columns</p>\n",
       "</div>"
      ],
      "text/plain": [
       "                   beer_style  review_overall\n",
       "4     American Pale Ale (APA)        4.118421\n",
       "31    American Pale Ale (APA)        3.574176\n",
       "41        American Blonde Ale        3.858333\n",
       "53    American Pale Ale (APA)        3.991228\n",
       "61    American Pale Ale (APA)        4.138596\n",
       "...                       ...             ...\n",
       "4250  American Pale Ale (APA)        3.700000\n",
       "4260         English Pale Ale        3.272727\n",
       "4269  American Pale Ale (APA)        3.854244\n",
       "4276  American Pale Ale (APA)        3.623077\n",
       "4283  American Pale Ale (APA)        3.221818\n",
       "\n",
       "[300 rows x 2 columns]"
      ]
     },
     "execution_count": 9,
     "metadata": {},
     "output_type": "execute_result"
    }
   ],
   "source": [
    "#Beer types\n",
    "#PaleAles: American Amber Ale, AMerican Pale Ale, Blonde Ale, \n",
    "#English Bitter, english pale ale\n",
    "\n",
    "PaleAles_df=beer_df.loc[((beer_df[\"beer_style\"]==\"American Pale Ale (APA)\")\n",
    "                        | (beer_df[\"beer_style\"]==\"American Amber Ale\")\n",
    "                        | (beer_df[\"beer_style\"]==\"American Blonde Ale\")\n",
    "                        | (beer_df[\"beer_style\"]==\"English Bitter\")\n",
    "                        |( beer_df[\"beer_style\"]==\"English Pale Ale\")),[\"beer_style\",\"review_overall\"]]\n",
    "PaleAles_df"
   ]
  },
  {
   "cell_type": "code",
   "execution_count": 21,
   "metadata": {},
   "outputs": [
    {
     "data": {
      "text/html": [
       "<div>\n",
       "<style scoped>\n",
       "    .dataframe tbody tr th:only-of-type {\n",
       "        vertical-align: middle;\n",
       "    }\n",
       "\n",
       "    .dataframe tbody tr th {\n",
       "        vertical-align: top;\n",
       "    }\n",
       "\n",
       "    .dataframe thead th {\n",
       "        text-align: right;\n",
       "    }\n",
       "</style>\n",
       "<table border=\"1\" class=\"dataframe\">\n",
       "  <thead>\n",
       "    <tr style=\"text-align: right;\">\n",
       "      <th></th>\n",
       "      <th>beer_style</th>\n",
       "      <th>review_overall</th>\n",
       "    </tr>\n",
       "  </thead>\n",
       "  <tbody>\n",
       "    <tr>\n",
       "      <th>24</th>\n",
       "      <td>Märzen / Oktoberfest</td>\n",
       "      <td>3.265432</td>\n",
       "    </tr>\n",
       "    <tr>\n",
       "      <th>180</th>\n",
       "      <td>Märzen / Oktoberfest</td>\n",
       "      <td>3.224891</td>\n",
       "    </tr>\n",
       "    <tr>\n",
       "      <th>258</th>\n",
       "      <td>Munich Dunkel Lager</td>\n",
       "      <td>3.396825</td>\n",
       "    </tr>\n",
       "    <tr>\n",
       "      <th>260</th>\n",
       "      <td>Märzen / Oktoberfest</td>\n",
       "      <td>3.280702</td>\n",
       "    </tr>\n",
       "    <tr>\n",
       "      <th>267</th>\n",
       "      <td>Märzen / Oktoberfest</td>\n",
       "      <td>3.784314</td>\n",
       "    </tr>\n",
       "    <tr>\n",
       "      <th>...</th>\n",
       "      <td>...</td>\n",
       "      <td>...</td>\n",
       "    </tr>\n",
       "    <tr>\n",
       "      <th>4046</th>\n",
       "      <td>Märzen / Oktoberfest</td>\n",
       "      <td>3.500000</td>\n",
       "    </tr>\n",
       "    <tr>\n",
       "      <th>4052</th>\n",
       "      <td>Märzen / Oktoberfest</td>\n",
       "      <td>3.830189</td>\n",
       "    </tr>\n",
       "    <tr>\n",
       "      <th>4138</th>\n",
       "      <td>Märzen / Oktoberfest</td>\n",
       "      <td>3.957464</td>\n",
       "    </tr>\n",
       "    <tr>\n",
       "      <th>4179</th>\n",
       "      <td>Munich Dunkel Lager</td>\n",
       "      <td>3.627350</td>\n",
       "    </tr>\n",
       "    <tr>\n",
       "      <th>4180</th>\n",
       "      <td>Märzen / Oktoberfest</td>\n",
       "      <td>3.551515</td>\n",
       "    </tr>\n",
       "  </tbody>\n",
       "</table>\n",
       "<p>127 rows × 2 columns</p>\n",
       "</div>"
      ],
      "text/plain": [
       "                beer_style  review_overall\n",
       "24    Märzen / Oktoberfest        3.265432\n",
       "180   Märzen / Oktoberfest        3.224891\n",
       "258    Munich Dunkel Lager        3.396825\n",
       "260   Märzen / Oktoberfest        3.280702\n",
       "267   Märzen / Oktoberfest        3.784314\n",
       "...                    ...             ...\n",
       "4046  Märzen / Oktoberfest        3.500000\n",
       "4052  Märzen / Oktoberfest        3.830189\n",
       "4138  Märzen / Oktoberfest        3.957464\n",
       "4179   Munich Dunkel Lager        3.627350\n",
       "4180  Märzen / Oktoberfest        3.551515\n",
       "\n",
       "[127 rows x 2 columns]"
      ]
     },
     "execution_count": 21,
     "metadata": {},
     "output_type": "execute_result"
    }
   ],
   "source": [
    "#DarkLagers: American Amber Lage, German Dunkel, German Marzan/Oktoberfest\n",
    "#German Schwarzbier,Viena Lager\n",
    "DarkLagers_df=beer_df.loc[((beer_df[\"beer_style\"]==\"Munich Dunkel Lager\")\n",
    "                        | (beer_df[\"beer_style\"]==\"Märzen / Oktoberfest\")\n",
    "                        | (beer_df[\"beer_style\"]==\"Euro Dark Lager\")\n",
    "                        | (beer_df[\"beer_style\"]==\"Schwarzbier\")),[\"beer_style\",\"review_overall\"]]\n",
    "DarkLagers_df"
   ]
  },
  {
   "cell_type": "code",
   "execution_count": 11,
   "metadata": {
    "slideshow": {
     "slide_type": "subslide"
    }
   },
   "outputs": [
    {
     "data": {
      "text/html": [
       "<div>\n",
       "<style scoped>\n",
       "    .dataframe tbody tr th:only-of-type {\n",
       "        vertical-align: middle;\n",
       "    }\n",
       "\n",
       "    .dataframe tbody tr th {\n",
       "        vertical-align: top;\n",
       "    }\n",
       "\n",
       "    .dataframe thead th {\n",
       "        text-align: right;\n",
       "    }\n",
       "</style>\n",
       "<table border=\"1\" class=\"dataframe\">\n",
       "  <thead>\n",
       "    <tr style=\"text-align: right;\">\n",
       "      <th></th>\n",
       "      <th>beer_style</th>\n",
       "      <th>review_overall</th>\n",
       "    </tr>\n",
       "  </thead>\n",
       "  <tbody>\n",
       "    <tr>\n",
       "      <th>18</th>\n",
       "      <td>English Brown Ale</td>\n",
       "      <td>3.706956</td>\n",
       "    </tr>\n",
       "    <tr>\n",
       "      <th>29</th>\n",
       "      <td>American Brown Ale</td>\n",
       "      <td>3.431677</td>\n",
       "    </tr>\n",
       "    <tr>\n",
       "      <th>55</th>\n",
       "      <td>American Brown Ale</td>\n",
       "      <td>3.781250</td>\n",
       "    </tr>\n",
       "    <tr>\n",
       "      <th>68</th>\n",
       "      <td>English Brown Ale</td>\n",
       "      <td>4.149351</td>\n",
       "    </tr>\n",
       "    <tr>\n",
       "      <th>84</th>\n",
       "      <td>American Brown Ale</td>\n",
       "      <td>3.284314</td>\n",
       "    </tr>\n",
       "    <tr>\n",
       "      <th>...</th>\n",
       "      <td>...</td>\n",
       "      <td>...</td>\n",
       "    </tr>\n",
       "    <tr>\n",
       "      <th>4184</th>\n",
       "      <td>English Brown Ale</td>\n",
       "      <td>3.828767</td>\n",
       "    </tr>\n",
       "    <tr>\n",
       "      <th>4252</th>\n",
       "      <td>American Brown Ale</td>\n",
       "      <td>3.746154</td>\n",
       "    </tr>\n",
       "    <tr>\n",
       "      <th>4261</th>\n",
       "      <td>English Brown Ale</td>\n",
       "      <td>3.743363</td>\n",
       "    </tr>\n",
       "    <tr>\n",
       "      <th>4273</th>\n",
       "      <td>English Dark Mild Ale</td>\n",
       "      <td>3.891960</td>\n",
       "    </tr>\n",
       "    <tr>\n",
       "      <th>4275</th>\n",
       "      <td>American Brown Ale</td>\n",
       "      <td>3.811538</td>\n",
       "    </tr>\n",
       "  </tbody>\n",
       "</table>\n",
       "<p>130 rows × 2 columns</p>\n",
       "</div>"
      ],
      "text/plain": [
       "                 beer_style  review_overall\n",
       "18        English Brown Ale        3.706956\n",
       "29       American Brown Ale        3.431677\n",
       "55       American Brown Ale        3.781250\n",
       "68        English Brown Ale        4.149351\n",
       "84       American Brown Ale        3.284314\n",
       "...                     ...             ...\n",
       "4184      English Brown Ale        3.828767\n",
       "4252     American Brown Ale        3.746154\n",
       "4261      English Brown Ale        3.743363\n",
       "4273  English Dark Mild Ale        3.891960\n",
       "4275     American Brown Ale        3.811538\n",
       "\n",
       "[130 rows x 2 columns]"
      ]
     },
     "execution_count": 11,
     "metadata": {},
     "output_type": "execute_result"
    }
   ],
   "source": [
    "#Brown Ales: American Brown Ale, English Brown Ale, English Mild\n",
    "BrownAles_df=beer_df.loc[((beer_df[\"beer_style\"]==\"American Brown Ale\")\n",
    "                        | (beer_df[\"beer_style\"]==\"English Brown Ale\")\n",
    "                        | (beer_df[\"beer_style\"]==\"English Dark Mild Ale\")),[\"beer_style\",\"review_overall\"]]\n",
    "BrownAles_df"
   ]
  },
  {
   "cell_type": "code",
   "execution_count": 13,
   "metadata": {},
   "outputs": [
    {
     "data": {
      "text/html": [
       "<div>\n",
       "<style scoped>\n",
       "    .dataframe tbody tr th:only-of-type {\n",
       "        vertical-align: middle;\n",
       "    }\n",
       "\n",
       "    .dataframe tbody tr th {\n",
       "        vertical-align: top;\n",
       "    }\n",
       "\n",
       "    .dataframe thead th {\n",
       "        text-align: right;\n",
       "    }\n",
       "</style>\n",
       "<table border=\"1\" class=\"dataframe\">\n",
       "  <thead>\n",
       "    <tr style=\"text-align: right;\">\n",
       "      <th></th>\n",
       "      <th>beer_style</th>\n",
       "      <th>review_overall</th>\n",
       "    </tr>\n",
       "  </thead>\n",
       "  <tbody>\n",
       "    <tr>\n",
       "      <th>0</th>\n",
       "      <td>American IPA</td>\n",
       "      <td>4.259259</td>\n",
       "    </tr>\n",
       "    <tr>\n",
       "      <th>3</th>\n",
       "      <td>American IPA</td>\n",
       "      <td>3.890769</td>\n",
       "    </tr>\n",
       "    <tr>\n",
       "      <th>5</th>\n",
       "      <td>American Double / Imperial IPA</td>\n",
       "      <td>3.932526</td>\n",
       "    </tr>\n",
       "    <tr>\n",
       "      <th>30</th>\n",
       "      <td>American IPA</td>\n",
       "      <td>3.600216</td>\n",
       "    </tr>\n",
       "    <tr>\n",
       "      <th>45</th>\n",
       "      <td>American IPA</td>\n",
       "      <td>3.767273</td>\n",
       "    </tr>\n",
       "    <tr>\n",
       "      <th>...</th>\n",
       "      <td>...</td>\n",
       "      <td>...</td>\n",
       "    </tr>\n",
       "    <tr>\n",
       "      <th>4240</th>\n",
       "      <td>American Double / Imperial IPA</td>\n",
       "      <td>3.811258</td>\n",
       "    </tr>\n",
       "    <tr>\n",
       "      <th>4243</th>\n",
       "      <td>American Double / Imperial IPA</td>\n",
       "      <td>3.872222</td>\n",
       "    </tr>\n",
       "    <tr>\n",
       "      <th>4253</th>\n",
       "      <td>American IPA</td>\n",
       "      <td>3.641892</td>\n",
       "    </tr>\n",
       "    <tr>\n",
       "      <th>4266</th>\n",
       "      <td>English India Pale Ale (IPA)</td>\n",
       "      <td>3.846690</td>\n",
       "    </tr>\n",
       "    <tr>\n",
       "      <th>4290</th>\n",
       "      <td>English India Pale Ale (IPA)</td>\n",
       "      <td>3.683099</td>\n",
       "    </tr>\n",
       "  </tbody>\n",
       "</table>\n",
       "<p>569 rows × 2 columns</p>\n",
       "</div>"
      ],
      "text/plain": [
       "                          beer_style  review_overall\n",
       "0                       American IPA        4.259259\n",
       "3                       American IPA        3.890769\n",
       "5     American Double / Imperial IPA        3.932526\n",
       "30                      American IPA        3.600216\n",
       "45                      American IPA        3.767273\n",
       "...                              ...             ...\n",
       "4240  American Double / Imperial IPA        3.811258\n",
       "4243  American Double / Imperial IPA        3.872222\n",
       "4253                    American IPA        3.641892\n",
       "4266    English India Pale Ale (IPA)        3.846690\n",
       "4290    English India Pale Ale (IPA)        3.683099\n",
       "\n",
       "[569 rows x 2 columns]"
      ]
     },
     "execution_count": 13,
     "metadata": {},
     "output_type": "execute_result"
    }
   ],
   "source": [
    "#India Pale Ales: American IPA, English IPA, Imperial IPA, New England IPA\n",
    "IPA_df=beer_df.loc[((beer_df[\"beer_style\"]==\"American IPA\")\n",
    "                        | (beer_df[\"beer_style\"]==\"English India Pale Ale (IPA)\")\n",
    "                        | (beer_df[\"beer_style\"]==\"American Double / Imperial IPA\")\n",
    "                        | (beer_df[\"beer_style\"]==\"Belgian IPA\")),[\"beer_style\",\"review_overall\"]]\n",
    "IPA_df"
   ]
  },
  {
   "cell_type": "code",
   "execution_count": 14,
   "metadata": {},
   "outputs": [
    {
     "data": {
      "text/html": [
       "<div>\n",
       "<style scoped>\n",
       "    .dataframe tbody tr th:only-of-type {\n",
       "        vertical-align: middle;\n",
       "    }\n",
       "\n",
       "    .dataframe tbody tr th {\n",
       "        vertical-align: top;\n",
       "    }\n",
       "\n",
       "    .dataframe thead th {\n",
       "        text-align: right;\n",
       "    }\n",
       "</style>\n",
       "<table border=\"1\" class=\"dataframe\">\n",
       "  <thead>\n",
       "    <tr style=\"text-align: right;\">\n",
       "      <th></th>\n",
       "      <th>beer_style</th>\n",
       "      <th>review_overall</th>\n",
       "    </tr>\n",
       "  </thead>\n",
       "  <tbody>\n",
       "    <tr>\n",
       "      <th>138</th>\n",
       "      <td>American Pale Wheat Ale</td>\n",
       "      <td>3.604762</td>\n",
       "    </tr>\n",
       "    <tr>\n",
       "      <th>160</th>\n",
       "      <td>American Pale Wheat Ale</td>\n",
       "      <td>3.444444</td>\n",
       "    </tr>\n",
       "    <tr>\n",
       "      <th>215</th>\n",
       "      <td>American Pale Wheat Ale</td>\n",
       "      <td>3.224057</td>\n",
       "    </tr>\n",
       "    <tr>\n",
       "      <th>219</th>\n",
       "      <td>American Pale Wheat Ale</td>\n",
       "      <td>2.830882</td>\n",
       "    </tr>\n",
       "    <tr>\n",
       "      <th>223</th>\n",
       "      <td>American Pale Wheat Ale</td>\n",
       "      <td>3.544944</td>\n",
       "    </tr>\n",
       "    <tr>\n",
       "      <th>...</th>\n",
       "      <td>...</td>\n",
       "      <td>...</td>\n",
       "    </tr>\n",
       "    <tr>\n",
       "      <th>4041</th>\n",
       "      <td>Wheatwine</td>\n",
       "      <td>3.710526</td>\n",
       "    </tr>\n",
       "    <tr>\n",
       "      <th>4173</th>\n",
       "      <td>American Pale Wheat Ale</td>\n",
       "      <td>3.500000</td>\n",
       "    </tr>\n",
       "    <tr>\n",
       "      <th>4177</th>\n",
       "      <td>American Pale Wheat Ale</td>\n",
       "      <td>3.452941</td>\n",
       "    </tr>\n",
       "    <tr>\n",
       "      <th>4217</th>\n",
       "      <td>Wheatwine</td>\n",
       "      <td>3.609290</td>\n",
       "    </tr>\n",
       "    <tr>\n",
       "      <th>4228</th>\n",
       "      <td>American Pale Wheat Ale</td>\n",
       "      <td>3.403054</td>\n",
       "    </tr>\n",
       "  </tbody>\n",
       "</table>\n",
       "<p>91 rows × 2 columns</p>\n",
       "</div>"
      ],
      "text/plain": [
       "                   beer_style  review_overall\n",
       "138   American Pale Wheat Ale        3.604762\n",
       "160   American Pale Wheat Ale        3.444444\n",
       "215   American Pale Wheat Ale        3.224057\n",
       "219   American Pale Wheat Ale        2.830882\n",
       "223   American Pale Wheat Ale        3.544944\n",
       "...                       ...             ...\n",
       "4041                Wheatwine        3.710526\n",
       "4173  American Pale Wheat Ale        3.500000\n",
       "4177  American Pale Wheat Ale        3.452941\n",
       "4217                Wheatwine        3.609290\n",
       "4228  American Pale Wheat Ale        3.403054\n",
       "\n",
       "[91 rows x 2 columns]"
      ]
     },
     "execution_count": 14,
     "metadata": {},
     "output_type": "execute_result"
    }
   ],
   "source": [
    "#Wheat Beer:American Wheat Wine Ale, American Wheat, Belgian Witbier, \n",
    "#Berliner Weisse, German Dunkelweizern, Hefeweizen\n",
    "WheatBeer_df=beer_df.loc[((beer_df[\"beer_style\"]==\"American Pale Wheat Ale\")\n",
    "                        | (beer_df[\"beer_style\"]==\"Wheatwine\")\n",
    "                        | (beer_df[\"beer_style\"]==\"American Dark Wheat Ale\")),[\"beer_style\",\"review_overall\"]]\n",
    "WheatBeer_df"
   ]
  },
  {
   "cell_type": "code",
   "execution_count": 15,
   "metadata": {},
   "outputs": [
    {
     "data": {
      "text/html": [
       "<div>\n",
       "<style scoped>\n",
       "    .dataframe tbody tr th:only-of-type {\n",
       "        vertical-align: middle;\n",
       "    }\n",
       "\n",
       "    .dataframe tbody tr th {\n",
       "        vertical-align: top;\n",
       "    }\n",
       "\n",
       "    .dataframe thead th {\n",
       "        text-align: right;\n",
       "    }\n",
       "</style>\n",
       "<table border=\"1\" class=\"dataframe\">\n",
       "  <thead>\n",
       "    <tr style=\"text-align: right;\">\n",
       "      <th></th>\n",
       "      <th>beer_style</th>\n",
       "      <th>review_overall</th>\n",
       "    </tr>\n",
       "  </thead>\n",
       "  <tbody>\n",
       "    <tr>\n",
       "      <th>1</th>\n",
       "      <td>American Porter</td>\n",
       "      <td>4.185185</td>\n",
       "    </tr>\n",
       "    <tr>\n",
       "      <th>43</th>\n",
       "      <td>American Porter</td>\n",
       "      <td>4.121305</td>\n",
       "    </tr>\n",
       "    <tr>\n",
       "      <th>47</th>\n",
       "      <td>Baltic Porter</td>\n",
       "      <td>4.048485</td>\n",
       "    </tr>\n",
       "    <tr>\n",
       "      <th>51</th>\n",
       "      <td>Baltic Porter</td>\n",
       "      <td>3.695652</td>\n",
       "    </tr>\n",
       "    <tr>\n",
       "      <th>56</th>\n",
       "      <td>English Porter</td>\n",
       "      <td>3.827273</td>\n",
       "    </tr>\n",
       "    <tr>\n",
       "      <th>...</th>\n",
       "      <td>...</td>\n",
       "      <td>...</td>\n",
       "    </tr>\n",
       "    <tr>\n",
       "      <th>4251</th>\n",
       "      <td>American Porter</td>\n",
       "      <td>3.854839</td>\n",
       "    </tr>\n",
       "    <tr>\n",
       "      <th>4256</th>\n",
       "      <td>American Porter</td>\n",
       "      <td>4.091398</td>\n",
       "    </tr>\n",
       "    <tr>\n",
       "      <th>4270</th>\n",
       "      <td>English Porter</td>\n",
       "      <td>3.801932</td>\n",
       "    </tr>\n",
       "    <tr>\n",
       "      <th>4277</th>\n",
       "      <td>American Porter</td>\n",
       "      <td>4.130597</td>\n",
       "    </tr>\n",
       "    <tr>\n",
       "      <th>4280</th>\n",
       "      <td>American Porter</td>\n",
       "      <td>3.550432</td>\n",
       "    </tr>\n",
       "  </tbody>\n",
       "</table>\n",
       "<p>202 rows × 2 columns</p>\n",
       "</div>"
      ],
      "text/plain": [
       "           beer_style  review_overall\n",
       "1     American Porter        4.185185\n",
       "43    American Porter        4.121305\n",
       "47      Baltic Porter        4.048485\n",
       "51      Baltic Porter        3.695652\n",
       "56     English Porter        3.827273\n",
       "...               ...             ...\n",
       "4251  American Porter        3.854839\n",
       "4256  American Porter        4.091398\n",
       "4270   English Porter        3.801932\n",
       "4277  American Porter        4.130597\n",
       "4280  American Porter        3.550432\n",
       "\n",
       "[202 rows x 2 columns]"
      ]
     },
     "execution_count": 15,
     "metadata": {},
     "output_type": "execute_result"
    }
   ],
   "source": [
    "#Porter: Imperial Porter, Baltic Porter, Brown Porter,\n",
    "#Robust Porter, Smoke Porter\n",
    "Porter_df=beer_df.loc[((beer_df[\"beer_style\"]==\"American Porter\")\n",
    "                        | (beer_df[\"beer_style\"]==\"Baltic Porter\")\n",
    "                        | (beer_df[\"beer_style\"]==\"English Porter\")),[\"beer_style\",\"review_overall\"]]\n",
    "Porter_df"
   ]
  },
  {
   "cell_type": "code",
   "execution_count": 16,
   "metadata": {},
   "outputs": [
    {
     "data": {
      "text/html": [
       "<div>\n",
       "<style scoped>\n",
       "    .dataframe tbody tr th:only-of-type {\n",
       "        vertical-align: middle;\n",
       "    }\n",
       "\n",
       "    .dataframe tbody tr th {\n",
       "        vertical-align: top;\n",
       "    }\n",
       "\n",
       "    .dataframe thead th {\n",
       "        text-align: right;\n",
       "    }\n",
       "</style>\n",
       "<table border=\"1\" class=\"dataframe\">\n",
       "  <thead>\n",
       "    <tr style=\"text-align: right;\">\n",
       "      <th></th>\n",
       "      <th>beer_style</th>\n",
       "      <th>review_overall</th>\n",
       "    </tr>\n",
       "  </thead>\n",
       "  <tbody>\n",
       "    <tr>\n",
       "      <th>37</th>\n",
       "      <td>Foreign / Export Stout</td>\n",
       "      <td>4.014493</td>\n",
       "    </tr>\n",
       "    <tr>\n",
       "      <th>38</th>\n",
       "      <td>Oatmeal Stout</td>\n",
       "      <td>3.902857</td>\n",
       "    </tr>\n",
       "    <tr>\n",
       "      <th>50</th>\n",
       "      <td>Russian Imperial Stout</td>\n",
       "      <td>3.727273</td>\n",
       "    </tr>\n",
       "    <tr>\n",
       "      <th>64</th>\n",
       "      <td>American Double / Imperial Stout</td>\n",
       "      <td>4.284392</td>\n",
       "    </tr>\n",
       "    <tr>\n",
       "      <th>74</th>\n",
       "      <td>American Double / Imperial Stout</td>\n",
       "      <td>4.354460</td>\n",
       "    </tr>\n",
       "    <tr>\n",
       "      <th>...</th>\n",
       "      <td>...</td>\n",
       "      <td>...</td>\n",
       "    </tr>\n",
       "    <tr>\n",
       "      <th>4268</th>\n",
       "      <td>English Stout</td>\n",
       "      <td>3.809028</td>\n",
       "    </tr>\n",
       "    <tr>\n",
       "      <th>4278</th>\n",
       "      <td>Oatmeal Stout</td>\n",
       "      <td>3.609375</td>\n",
       "    </tr>\n",
       "    <tr>\n",
       "      <th>4287</th>\n",
       "      <td>American Stout</td>\n",
       "      <td>3.870370</td>\n",
       "    </tr>\n",
       "    <tr>\n",
       "      <th>4288</th>\n",
       "      <td>Russian Imperial Stout</td>\n",
       "      <td>3.911504</td>\n",
       "    </tr>\n",
       "    <tr>\n",
       "      <th>4291</th>\n",
       "      <td>American Stout</td>\n",
       "      <td>3.867925</td>\n",
       "    </tr>\n",
       "  </tbody>\n",
       "</table>\n",
       "<p>438 rows × 2 columns</p>\n",
       "</div>"
      ],
      "text/plain": [
       "                            beer_style  review_overall\n",
       "37              Foreign / Export Stout        4.014493\n",
       "38                       Oatmeal Stout        3.902857\n",
       "50              Russian Imperial Stout        3.727273\n",
       "64    American Double / Imperial Stout        4.284392\n",
       "74    American Double / Imperial Stout        4.354460\n",
       "...                                ...             ...\n",
       "4268                     English Stout        3.809028\n",
       "4278                     Oatmeal Stout        3.609375\n",
       "4287                    American Stout        3.870370\n",
       "4288            Russian Imperial Stout        3.911504\n",
       "4291                    American Stout        3.867925\n",
       "\n",
       "[438 rows x 2 columns]"
      ]
     },
     "execution_count": 16,
     "metadata": {},
     "output_type": "execute_result"
    }
   ],
   "source": [
    "#Stouts:Imperial Stout, AMerican Stout, English Otmeal Stout,\n",
    "#Sweet/Milk Stout, Dry Stout\n",
    "Stouts_df=beer_df.loc[((beer_df[\"beer_style\"]==\"Foreign / Export Stout\")\n",
    "                        | (beer_df[\"beer_style\"]==\"Oatmeal Stout\")\n",
    "                        | (beer_df[\"beer_style\"]==\"American Double / Imperial Stout\")\n",
    "                        | (beer_df[\"beer_style\"]==\"American Stout\")\n",
    "                        | (beer_df[\"beer_style\"]==\"Irish Dry Stout\")\n",
    "                        | (beer_df[\"beer_style\"]==\"English Stout\")\n",
    "                        | (beer_df[\"beer_style\"]==\"Milk / Sweet Stout\")\n",
    "                        | (beer_df[\"beer_style\"]==\"Russian Imperial Stout\")),[\"beer_style\",\"review_overall\"]]\n",
    "Stouts_df"
   ]
  },
  {
   "cell_type": "code",
   "execution_count": 17,
   "metadata": {},
   "outputs": [
    {
     "data": {
      "text/html": [
       "<div>\n",
       "<style scoped>\n",
       "    .dataframe tbody tr th:only-of-type {\n",
       "        vertical-align: middle;\n",
       "    }\n",
       "\n",
       "    .dataframe tbody tr th {\n",
       "        vertical-align: top;\n",
       "    }\n",
       "\n",
       "    .dataframe thead th {\n",
       "        text-align: right;\n",
       "    }\n",
       "</style>\n",
       "<table border=\"1\" class=\"dataframe\">\n",
       "  <thead>\n",
       "    <tr style=\"text-align: right;\">\n",
       "      <th></th>\n",
       "      <th>beer_style</th>\n",
       "      <th>review_overall</th>\n",
       "    </tr>\n",
       "  </thead>\n",
       "  <tbody>\n",
       "    <tr>\n",
       "      <th>22</th>\n",
       "      <td>Maibock / Helles Bock</td>\n",
       "      <td>3.478873</td>\n",
       "    </tr>\n",
       "    <tr>\n",
       "      <th>25</th>\n",
       "      <td>Maibock / Helles Bock</td>\n",
       "      <td>3.536364</td>\n",
       "    </tr>\n",
       "    <tr>\n",
       "      <th>36</th>\n",
       "      <td>Doppelbock</td>\n",
       "      <td>3.890909</td>\n",
       "    </tr>\n",
       "    <tr>\n",
       "      <th>80</th>\n",
       "      <td>Weizenbock</td>\n",
       "      <td>4.076923</td>\n",
       "    </tr>\n",
       "    <tr>\n",
       "      <th>112</th>\n",
       "      <td>Doppelbock</td>\n",
       "      <td>3.937500</td>\n",
       "    </tr>\n",
       "    <tr>\n",
       "      <th>...</th>\n",
       "      <td>...</td>\n",
       "      <td>...</td>\n",
       "    </tr>\n",
       "    <tr>\n",
       "      <th>4134</th>\n",
       "      <td>Doppelbock</td>\n",
       "      <td>4.039683</td>\n",
       "    </tr>\n",
       "    <tr>\n",
       "      <th>4175</th>\n",
       "      <td>Doppelbock</td>\n",
       "      <td>3.744898</td>\n",
       "    </tr>\n",
       "    <tr>\n",
       "      <th>4210</th>\n",
       "      <td>Weizenbock</td>\n",
       "      <td>3.850394</td>\n",
       "    </tr>\n",
       "    <tr>\n",
       "      <th>4238</th>\n",
       "      <td>Doppelbock</td>\n",
       "      <td>3.581560</td>\n",
       "    </tr>\n",
       "    <tr>\n",
       "      <th>4286</th>\n",
       "      <td>Bock</td>\n",
       "      <td>3.586957</td>\n",
       "    </tr>\n",
       "  </tbody>\n",
       "</table>\n",
       "<p>156 rows × 2 columns</p>\n",
       "</div>"
      ],
      "text/plain": [
       "                 beer_style  review_overall\n",
       "22    Maibock / Helles Bock        3.478873\n",
       "25    Maibock / Helles Bock        3.536364\n",
       "36               Doppelbock        3.890909\n",
       "80               Weizenbock        4.076923\n",
       "112              Doppelbock        3.937500\n",
       "...                     ...             ...\n",
       "4134             Doppelbock        4.039683\n",
       "4175             Doppelbock        3.744898\n",
       "4210             Weizenbock        3.850394\n",
       "4238             Doppelbock        3.581560\n",
       "4286                   Bock        3.586957\n",
       "\n",
       "[156 rows x 2 columns]"
      ]
     },
     "execution_count": 17,
     "metadata": {},
     "output_type": "execute_result"
    }
   ],
   "source": [
    "#Bocks:Bock, DIppelbock,Maibock,weizenbock\n",
    "Bocks_df=beer_df.loc[((beer_df[\"beer_style\"]==\"Maibock / Helles Bock\")\n",
    "                        | (beer_df[\"beer_style\"]==\"Doppelbock\")\n",
    "                        | (beer_df[\"beer_style\"]==\"Weizenbock\")\n",
    "                        | (beer_df[\"beer_style\"]==\"Bock\")\n",
    "                        | (beer_df[\"beer_style\"]==\"Eisbock\")),[\"beer_style\",\"review_overall\"]]\n",
    "Bocks_df"
   ]
  },
  {
   "cell_type": "code",
   "execution_count": 18,
   "metadata": {},
   "outputs": [
    {
     "data": {
      "text/html": [
       "<div>\n",
       "<style scoped>\n",
       "    .dataframe tbody tr th:only-of-type {\n",
       "        vertical-align: middle;\n",
       "    }\n",
       "\n",
       "    .dataframe tbody tr th {\n",
       "        vertical-align: top;\n",
       "    }\n",
       "\n",
       "    .dataframe thead th {\n",
       "        text-align: right;\n",
       "    }\n",
       "</style>\n",
       "<table border=\"1\" class=\"dataframe\">\n",
       "  <thead>\n",
       "    <tr style=\"text-align: right;\">\n",
       "      <th></th>\n",
       "      <th>beer_style</th>\n",
       "      <th>review_overall</th>\n",
       "    </tr>\n",
       "  </thead>\n",
       "  <tbody>\n",
       "    <tr>\n",
       "      <th>95</th>\n",
       "      <td>American Wild Ale</td>\n",
       "      <td>4.147790</td>\n",
       "    </tr>\n",
       "    <tr>\n",
       "      <th>103</th>\n",
       "      <td>American Wild Ale</td>\n",
       "      <td>4.021858</td>\n",
       "    </tr>\n",
       "    <tr>\n",
       "      <th>104</th>\n",
       "      <td>American Wild Ale</td>\n",
       "      <td>4.316667</td>\n",
       "    </tr>\n",
       "    <tr>\n",
       "      <th>106</th>\n",
       "      <td>American Wild Ale</td>\n",
       "      <td>4.246154</td>\n",
       "    </tr>\n",
       "    <tr>\n",
       "      <th>108</th>\n",
       "      <td>American Wild Ale</td>\n",
       "      <td>3.885246</td>\n",
       "    </tr>\n",
       "    <tr>\n",
       "      <th>...</th>\n",
       "      <td>...</td>\n",
       "      <td>...</td>\n",
       "    </tr>\n",
       "    <tr>\n",
       "      <th>4047</th>\n",
       "      <td>American Wild Ale</td>\n",
       "      <td>4.006410</td>\n",
       "    </tr>\n",
       "    <tr>\n",
       "      <th>4113</th>\n",
       "      <td>Lambic - Fruit</td>\n",
       "      <td>4.207547</td>\n",
       "    </tr>\n",
       "    <tr>\n",
       "      <th>4114</th>\n",
       "      <td>Lambic - Fruit</td>\n",
       "      <td>3.827869</td>\n",
       "    </tr>\n",
       "    <tr>\n",
       "      <th>4213</th>\n",
       "      <td>American Wild Ale</td>\n",
       "      <td>3.785388</td>\n",
       "    </tr>\n",
       "    <tr>\n",
       "      <th>4223</th>\n",
       "      <td>American Wild Ale</td>\n",
       "      <td>4.166667</td>\n",
       "    </tr>\n",
       "  </tbody>\n",
       "</table>\n",
       "<p>126 rows × 2 columns</p>\n",
       "</div>"
      ],
      "text/plain": [
       "             beer_style  review_overall\n",
       "95    American Wild Ale        4.147790\n",
       "103   American Wild Ale        4.021858\n",
       "104   American Wild Ale        4.316667\n",
       "106   American Wild Ale        4.246154\n",
       "108   American Wild Ale        3.885246\n",
       "...                 ...             ...\n",
       "4047  American Wild Ale        4.006410\n",
       "4113     Lambic - Fruit        4.207547\n",
       "4114     Lambic - Fruit        3.827869\n",
       "4213  American Wild Ale        3.785388\n",
       "4223  American Wild Ale        4.166667\n",
       "\n",
       "[126 rows x 2 columns]"
      ]
     },
     "execution_count": 18,
     "metadata": {},
     "output_type": "execute_result"
    }
   ],
   "source": [
    "#Wild/Sours: Brett, Sour, Flanders, Fruit Lambic, Lambic/Gueuze,Gose\n",
    "Sours_df=beer_df.loc[((beer_df[\"beer_style\"]==\"Lambic - Fruit\")\n",
    "                        | (beer_df[\"beer_style\"]==\"Lambic - Unblended\")\n",
    "                        | (beer_df[\"beer_style\"]==\"American Wild Ale\")\n",
    "                        | (beer_df[\"beer_style\"]==\"Gose\")),[\"beer_style\",\"review_overall\"]]\n",
    "Sours_df"
   ]
  },
  {
   "cell_type": "code",
   "execution_count": 19,
   "metadata": {},
   "outputs": [
    {
     "data": {
      "text/html": [
       "<div>\n",
       "<style scoped>\n",
       "    .dataframe tbody tr th:only-of-type {\n",
       "        vertical-align: middle;\n",
       "    }\n",
       "\n",
       "    .dataframe tbody tr th {\n",
       "        vertical-align: top;\n",
       "    }\n",
       "\n",
       "    .dataframe thead th {\n",
       "        text-align: right;\n",
       "    }\n",
       "</style>\n",
       "<table border=\"1\" class=\"dataframe\">\n",
       "  <thead>\n",
       "    <tr style=\"text-align: right;\">\n",
       "      <th></th>\n",
       "      <th>beer_style</th>\n",
       "      <th>review_overall</th>\n",
       "    </tr>\n",
       "  </thead>\n",
       "  <tbody>\n",
       "    <tr>\n",
       "      <th>10</th>\n",
       "      <td>American Adjunct Lager</td>\n",
       "      <td>2.758621</td>\n",
       "    </tr>\n",
       "    <tr>\n",
       "      <th>20</th>\n",
       "      <td>American Adjunct Lager</td>\n",
       "      <td>3.647059</td>\n",
       "    </tr>\n",
       "    <tr>\n",
       "      <th>21</th>\n",
       "      <td>American Pale Lager</td>\n",
       "      <td>3.400862</td>\n",
       "    </tr>\n",
       "    <tr>\n",
       "      <th>28</th>\n",
       "      <td>Czech Pilsener</td>\n",
       "      <td>4.164773</td>\n",
       "    </tr>\n",
       "    <tr>\n",
       "      <th>34</th>\n",
       "      <td>German Pilsener</td>\n",
       "      <td>3.864929</td>\n",
       "    </tr>\n",
       "    <tr>\n",
       "      <th>...</th>\n",
       "      <td>...</td>\n",
       "      <td>...</td>\n",
       "    </tr>\n",
       "    <tr>\n",
       "      <th>4126</th>\n",
       "      <td>Munich Helles Lager</td>\n",
       "      <td>3.875385</td>\n",
       "    </tr>\n",
       "    <tr>\n",
       "      <th>4132</th>\n",
       "      <td>German Pilsener</td>\n",
       "      <td>4.242083</td>\n",
       "    </tr>\n",
       "    <tr>\n",
       "      <th>4146</th>\n",
       "      <td>German Pilsener</td>\n",
       "      <td>4.270588</td>\n",
       "    </tr>\n",
       "    <tr>\n",
       "      <th>4178</th>\n",
       "      <td>German Pilsener</td>\n",
       "      <td>3.688630</td>\n",
       "    </tr>\n",
       "    <tr>\n",
       "      <th>4279</th>\n",
       "      <td>American Pale Lager</td>\n",
       "      <td>3.307947</td>\n",
       "    </tr>\n",
       "  </tbody>\n",
       "</table>\n",
       "<p>239 rows × 2 columns</p>\n",
       "</div>"
      ],
      "text/plain": [
       "                  beer_style  review_overall\n",
       "10    American Adjunct Lager        2.758621\n",
       "20    American Adjunct Lager        3.647059\n",
       "21       American Pale Lager        3.400862\n",
       "28            Czech Pilsener        4.164773\n",
       "34           German Pilsener        3.864929\n",
       "...                      ...             ...\n",
       "4126     Munich Helles Lager        3.875385\n",
       "4132         German Pilsener        4.242083\n",
       "4146         German Pilsener        4.270588\n",
       "4178         German Pilsener        3.688630\n",
       "4279     American Pale Lager        3.307947\n",
       "\n",
       "[239 rows x 2 columns]"
      ]
     },
     "execution_count": 19,
     "metadata": {},
     "output_type": "execute_result"
    }
   ],
   "source": [
    "#Pilsener and Pale Lagers:American Lager, Pilsner, Europen Export, Helles,\n",
    "#German Pilsner\n",
    "Pilsener_df=beer_df.loc[((beer_df[\"beer_style\"]==\"American Adjunct Lager\")\n",
    "                        | (beer_df[\"beer_style\"]==\"German Pilsener\")\n",
    "                        | (beer_df[\"beer_style\"]==\"Czech Pilsener\")\n",
    "                        | (beer_df[\"beer_style\"]==\"Munich Helles Lager\")\n",
    "                        | (beer_df[\"beer_style\"]==\"American Pale Lager\")\n",
    "                        | (beer_df[\"beer_style\"]==\"Euro Pale Lager\")\n",
    "                        | (beer_df[\"beer_style\"]==\"Dortmunder / Export Lager\")),[\"beer_style\",\"review_overall\"]]\n",
    "Pilsener_df"
   ]
  },
  {
   "cell_type": "code",
   "execution_count": 47,
   "metadata": {},
   "outputs": [
    {
     "data": {
      "text/plain": [
       "([<matplotlib.axis.XTick at 0x1588863e488>,\n",
       "  <matplotlib.axis.XTick at 0x15888636d08>],\n",
       " <a list of 2 Text xticklabel objects>)"
      ]
     },
     "execution_count": 47,
     "metadata": {},
     "output_type": "execute_result"
    },
    {
     "data": {
      "image/png": "[encoded data removed]",
      "text/plain": [
       "<Figure size 432x288 with 1 Axes>"
      ]
     },
     "metadata": {
      "needs_background": "light"
     },
     "output_type": "display_data"
    }
   ],
   "source": [
    "plt.boxplot([Pilsener_df[\"review_overall\"],Sours_df[\"review_overall\"]])\n",
    "plt.xticks([1,2],[\"Pilsener\",\"Sours\"])"
   ]
  },
  {
   "cell_type": "code",
   "execution_count": 32,
   "metadata": {},
   "outputs": [
    {
     "data": {
      "text/plain": [
       "Text(0.5, 1.0, 'Dark Lagers')"
      ]
     },
     "execution_count": 32,
     "metadata": {},
     "output_type": "execute_result"
    },
    {
     "data": {
      "image/png": "[encoded data removed]",
      "text/plain": [
       "<Figure size 1440x720 with 1 Axes>"
      ]
     },
     "metadata": {
      "needs_background": "light"
     },
     "output_type": "display_data"
    }
   ],
   "source": [
    "DarkLagers_df.boxplot(\"review_overall\", figsize=(20,10))\n",
    "plt.title(\"Dark Lagers\")"
   ]
  },
  {
   "cell_type": "code",
   "execution_count": 33,
   "metadata": {},
   "outputs": [
    {
     "data": {
      "text/plain": [
       "Text(0.5, 1.0, 'Bocks')"
      ]
     },
     "execution_count": 33,
     "metadata": {},
     "output_type": "execute_result"
    },
    {
     "data": {
      "image/png": "[encoded data removed]",
      "text/plain": [
       "<Figure size 1440x720 with 1 Axes>"
      ]
     },
     "metadata": {
      "needs_background": "light"
     },
     "output_type": "display_data"
    }
   ],
   "source": [
    "Bocks_df.boxplot(\"review_overall\", figsize=(20,10))\n",
    "plt.title(\"Bocks\")"
   ]
  },
  {
   "cell_type": "code",
   "execution_count": 34,
   "metadata": {},
   "outputs": [
    {
     "data": {
      "text/plain": [
       "Text(0.5, 1.0, 'Brown Ales')"
      ]
     },
     "execution_count": 34,
     "metadata": {},
     "output_type": "execute_result"
    },
    {
     "data": {
      "image/png": "[encoded data removed]",
      "text/plain": [
       "<Figure size 1440x720 with 1 Axes>"
      ]
     },
     "metadata": {
      "needs_background": "light"
     },
     "output_type": "display_data"
    }
   ],
   "source": [
    "BrownAles_df.boxplot(\"review_overall\", figsize=(20,10))\n",
    "plt.title(\"Brown Ales\")"
   ]
  },
  {
   "cell_type": "code",
   "execution_count": 35,
   "metadata": {},
   "outputs": [
    {
     "data": {
      "text/plain": [
       "Text(0.5, 1.0, 'Sours')"
      ]
     },
     "execution_count": 35,
     "metadata": {},
     "output_type": "execute_result"
    },
    {
     "data": {
      "image/png": "[encoded data removed]",
      "text/plain": [
       "<Figure size 1440x720 with 1 Axes>"
      ]
     },
     "metadata": {
      "needs_background": "light"
     },
     "output_type": "display_data"
    }
   ],
   "source": [
    "Sours_df.boxplot(\"review_overall\", figsize=(20,10))\n",
    "plt.title(\"Sours\")"
   ]
  },
  {
   "cell_type": "code",
   "execution_count": 36,
   "metadata": {},
   "outputs": [
    {
     "data": {
      "text/plain": [
       "Text(0.5, 1.0, 'IPA')"
      ]
     },
     "execution_count": 36,
     "metadata": {},
     "output_type": "execute_result"
    },
    {
     "data": {
      "image/png": "[encoded data removed]",
      "text/plain": [
       "<Figure size 1440x720 with 1 Axes>"
      ]
     },
     "metadata": {
      "needs_background": "light"
     },
     "output_type": "display_data"
    }
   ],
   "source": [
    "IPA_df.boxplot(\"review_overall\", figsize=(20,10))\n",
    "plt.title(\"IPA\")"
   ]
  },
  {
   "cell_type": "code",
   "execution_count": 37,
   "metadata": {},
   "outputs": [
    {
     "data": {
      "text/plain": [
       "Text(0.5, 1.0, 'Wheat Beer')"
      ]
     },
     "execution_count": 37,
     "metadata": {},
     "output_type": "execute_result"
    },
    {
     "data": {
      "image/png": "[encoded data removed]",
      "text/plain": [
       "<Figure size 1440x720 with 1 Axes>"
      ]
     },
     "metadata": {
      "needs_background": "light"
     },
     "output_type": "display_data"
    }
   ],
   "source": [
    "WheatBeer_df.boxplot(\"review_overall\", figsize=(20,10))\n",
    "plt.title(\"Wheat Beer\")"
   ]
  },
  {
   "cell_type": "code",
   "execution_count": 38,
   "metadata": {},
   "outputs": [
    {
     "data": {
      "text/plain": [
       "Text(0.5, 1.0, 'Porters')"
      ]
     },
     "execution_count": 38,
     "metadata": {},
     "output_type": "execute_result"
    },
    {
     "data": {
      "image/png": "[encoded data removed]",
      "text/plain": [
       "<Figure size 1440x720 with 1 Axes>"
      ]
     },
     "metadata": {
      "needs_background": "light"
     },
     "output_type": "display_data"
    }
   ],
   "source": [
    "Porter_df.boxplot(\"review_overall\", figsize=(20,10))\n",
    "plt.title(\"Porters\")"
   ]
  },
  {
   "cell_type": "code",
   "execution_count": 39,
   "metadata": {},
   "outputs": [
    {
     "data": {
      "text/plain": [
       "Text(0.5, 1.0, 'Stouts')"
      ]
     },
     "execution_count": 39,
     "metadata": {},
     "output_type": "execute_result"
    },
    {
     "data": {
      "image/png": "[encoded data removed]",
      "text/plain": [
       "<Figure size 1440x720 with 1 Axes>"
      ]
     },
     "metadata": {
      "needs_background": "light"
     },
     "output_type": "display_data"
    }
   ],
   "source": [
    "Stouts_df.boxplot(\"review_overall\", figsize=(20,10))\n",
    "plt.title(\"Stouts\")"
   ]
  },
  {
   "cell_type": "code",
   "execution_count": 40,
   "metadata": {},
   "outputs": [
    {
     "data": {
      "text/plain": [
       "Text(0.5, 1.0, 'Pilseners')"
      ]
     },
     "execution_count": 40,
     "metadata": {},
     "output_type": "execute_result"
    },
    {
     "data": {
      "image/png": "[encoded data removed]",
      "text/plain": [
       "<Figure size 1440x720 with 1 Axes>"
      ]
     },
     "metadata": {
      "needs_background": "light"
     },
     "output_type": "display_data"
    }
   ],
   "source": [
    "Pilsener_df.boxplot(\"review_overall\", figsize=(20,10))\n",
    "plt.title(\"Pilseners\")"
   ]
  },
  {
   "cell_type": "code",
   "execution_count": null,
   "metadata": {},
   "outputs": [],
   "source": []
  }
 ],
 "metadata": {
  "kernelspec": {
   "display_name": "Python 3",
   "language": "python",
   "name": "python3"
  },
  "language_info": {
   "codemirror_mode": {
    "name": "ipython",
    "version": 3
   },
   "file_extension": ".py",
   "mimetype": "text/x-python",
   "name": "python",
   "nbconvert_exporter": "python",
   "pygments_lexer": "ipython3",
   "version": "3.7.6"
  }
 },
 "nbformat": 4,
 "nbformat_minor": 4
}
